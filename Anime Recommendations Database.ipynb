{
 "cells": [
  {
   "cell_type": "markdown",
   "metadata": {},
   "source": [
    "<br>\n",
    "<br>\n",
    "<div class=\"alert alert-warning\" style=\"text-align:right\">\n",
    "Gabriel Ángel Tamayo Leiva.<br> Enero 2020\n",
    "</div>\n",
    "\n",
    "\n",
    "<h1 style=\"font-family:'Comic Sans MS',cursive, sans-serif; color:orange\"> Anime Recommendations Database </h1>\n",
    "\n",
    "<h4 style=\"font-family:'Comic Sans MS',cursive, sans-serif; color:gray\"> Recommendation data from 76,000 users at myanimelist.net </h4>\n",
    "\n",
    "<br>\n",
    "<br>\n",
    "\n",
    "\n",
    "<p style=\"font-family:'Comic Sans MS', sans-serif; color:#545353;font-weight: bold;\">\n",
    "El objetivo del desafío es desarrollar un sistema de recomendación que permita sugerir anime que los\n",
    "usuarios no han visto, en base a sus ratings previos.\n",
    "</p>\n",
    "<p style=\"font-family:'Comic Sans MS', sans-serif; color:#545353;font-weight: bold;\">\n",
    "Dataset: <br>\n",
    "https://www.kaggle.com/CooperUnion/anime-recommendations-database#rating.csv y descargar los\n",
    "archivos anime.csv y rating.csv.\n",
    "Ambas tablas contienen información de las preferencias de 73.516 usuarios en 12.294 animes (series de\n",
    "dibujos animados orientales). Cada usuario puede agregar un anime a su lista y darle un rating (de 0 a\n",
    "10).\n",
    "</p>    \n",
    "\n",
    "<p style=\"font-family:'Comic Sans MS', sans-serif; color:#545353;font-weight: bold;\">\n",
    "descripción de la data:\n",
    "    <br><br>\n",
    "Anime.csv\n",
    "<br>\n",
    "• anime_id : id único del anime (de la página myanimelist.net)\n",
    "<br>\n",
    "• name : nombre del anime\n",
    "<br>\n",
    "• genre : lista de generos separados por coma del anime\n",
    "<br>\n",
    "• type : TV, movie (de película), OVA, etc...\n",
    "<br>\n",
    "• episodes : cantidad de episodios del show (1 si es película)\n",
    "<br>\n",
    "• rating : rating promedio (de 1-10) para este anime\n",
    "<br>\n",
    "• members : numero de miembros de la comunidad que están en el grupo del anime\n",
    "<br><br>\n",
    "Rating.csv\n",
    "<br>\n",
    "• user_id : id del usuario generado aleatoriamente\n",
    "<br>\n",
    "• anime_id : el anime que el usuario rankeo\n",
    "<br>\n",
    "• rating : el rating entre 1 y 10 que el usuario asignó al anime ( -1 si el usuario vio el anime pero no\n",
    "le asignó puntaje)\n",
    "\n",
    "</p>"
   ]
  },
  {
   "cell_type": "code",
   "execution_count": 1,
   "metadata": {},
   "outputs": [],
   "source": [
    "# import libraries\n",
    "import pandas as pd \n",
    "import numpy as np\n",
    "\n",
    "\n",
    "import matplotlib.pyplot as plt\n",
    "from scipy.sparse import csr_matrix\n",
    "from sklearn.neighbors import NearestNeighbors\n",
    "from utils import *\n",
    "\n",
    "import warnings\n",
    "warnings.filterwarnings('ignore')"
   ]
  },
  {
   "cell_type": "code",
   "execution_count": 2,
   "metadata": {},
   "outputs": [],
   "source": [
    "# Read csv anime and rating\n",
    "df_anime = pd.read_csv(\"data/anime.csv\")\n",
    "df_rating = pd.read_csv(\"data/rating.csv\")"
   ]
  },
  {
   "cell_type": "markdown",
   "metadata": {},
   "source": [
    "<br>\n",
    "<h2 style=\"font-family:'Comic Sans MS',cursive, sans-serif; color:orange\"> Utils Functions </h2>\n",
    "<p style=\"font-family:'Comic Sans MS', sans-serif; color:#545353;font-weight: bold;\">\n",
    "Se exponen para una revisión más rapida pero realmente se importan desde el archivo utils.py\n",
    "</p>\n",
    "\n",
    "\n",
    "```python\n",
    "\n",
    "# Utils functions\n",
    "import matplotlib.pyplot as plt\n",
    "import seaborn as sns\n",
    "import math\n",
    "\n",
    "\n",
    "def missing_values(df, col_name):\n",
    "    \"\"\"\n",
    "    input:\n",
    "    df: dataframe\n",
    "    col_name: column name in df\n",
    "    Report missing values (nan) in df columns\n",
    "    \"\"\"\n",
    "    count_null = df[df[col_name].isna()].shape[0]\n",
    "    count_total = df[col_name].shape[0]\n",
    "    print(f\"\\t{col_name}: {(count_null,count_total)} {count_null/count_total}%\")\n",
    "    \n",
    "\n",
    "def basic_analisis_df(df, df_name):\n",
    "    \"\"\"\n",
    "    input:\n",
    "    df: dataframe\n",
    "    df_name: title of report\n",
    "    Report shape, datatype columns and missing values per df\n",
    "    \"\"\"\n",
    "    print(df_name)\n",
    "    print(f\"(Filas,columnas): \\n \\t{df.shape}\")\n",
    "    print(\"columna (type):\\n {}\".format(''.join([\"\\t\" + col +' ('+  str(df[col].dtype) + ')\\n ' for col in df.columns])))\n",
    "    print(\"Missing values (na_count , total) percent% \\n\")\n",
    "    [missing_values(df,col) for col in df.columns]\n",
    "    \n",
    "def graph_df_basics(df, figsize=(15,15)):\n",
    "    \"\"\"\n",
    "    df: dataframe\n",
    "    figsize: tuple (widht, height) size figure (default (15,15))\n",
    "    \n",
    "    Plot each df column using sns.countplot in obect type and distplot in numeric type\n",
    "    \"\"\"\n",
    "    height = math.ceil(df.shape[1]/2)\n",
    "    ax = plt.figure(figsize=figsize)\n",
    "    ax.subplots(height,2)\n",
    "    image_pos = 1\n",
    "    for col_name, col_serie in df.iteritems():\n",
    "        plt.subplot(height,2,image_pos)\n",
    "        plt.title(f\"Chart {col_name}\")\n",
    "        if col_serie.dtype == 'object':\n",
    "            valores_unicos = col_serie.unique().shape[0]\n",
    "            if valores_unicos < 50:\n",
    "                sns.countplot(col_serie,palette=sns.color_palette(\"Paired\"));\n",
    "            else:\n",
    "                msje = f\"Columna {col_name} es tipo object con {valores_unicos} categorias \"\n",
    "                plt.text(.2, .5, msje, fontsize=12)\n",
    "        else:\n",
    "            sns.distplot(col_serie.dropna(),color=\"red\",\n",
    "                 kde=False);\n",
    "        image_pos +=1\n",
    "        plt.tight_layout()\n",
    "        \n",
    "```"
   ]
  },
  {
   "cell_type": "markdown",
   "metadata": {},
   "source": [
    "<br>\n",
    "<h2 style=\"font-family:'Comic Sans MS',cursive, sans-serif; color:orange\"> EDA anime.csv </h2>\n",
    "\n"
   ]
  },
  {
   "cell_type": "code",
   "execution_count": 3,
   "metadata": {
    "scrolled": false
   },
   "outputs": [
    {
     "data": {
      "text/html": [
       "<div>\n",
       "<style scoped>\n",
       "    .dataframe tbody tr th:only-of-type {\n",
       "        vertical-align: middle;\n",
       "    }\n",
       "\n",
       "    .dataframe tbody tr th {\n",
       "        vertical-align: top;\n",
       "    }\n",
       "\n",
       "    .dataframe thead th {\n",
       "        text-align: right;\n",
       "    }\n",
       "</style>\n",
       "<table border=\"1\" class=\"dataframe\">\n",
       "  <thead>\n",
       "    <tr style=\"text-align: right;\">\n",
       "      <th></th>\n",
       "      <th>anime_id</th>\n",
       "      <th>name</th>\n",
       "      <th>genre</th>\n",
       "      <th>type</th>\n",
       "      <th>episodes</th>\n",
       "      <th>rating</th>\n",
       "      <th>members</th>\n",
       "    </tr>\n",
       "  </thead>\n",
       "  <tbody>\n",
       "    <tr>\n",
       "      <th>0</th>\n",
       "      <td>32281</td>\n",
       "      <td>Kimi no Na wa.</td>\n",
       "      <td>Drama, Romance, School, Supernatural</td>\n",
       "      <td>Movie</td>\n",
       "      <td>1</td>\n",
       "      <td>9.37</td>\n",
       "      <td>200630</td>\n",
       "    </tr>\n",
       "    <tr>\n",
       "      <th>1</th>\n",
       "      <td>5114</td>\n",
       "      <td>Fullmetal Alchemist: Brotherhood</td>\n",
       "      <td>Action, Adventure, Drama, Fantasy, Magic, Mili...</td>\n",
       "      <td>TV</td>\n",
       "      <td>64</td>\n",
       "      <td>9.26</td>\n",
       "      <td>793665</td>\n",
       "    </tr>\n",
       "    <tr>\n",
       "      <th>2</th>\n",
       "      <td>28977</td>\n",
       "      <td>Gintama°</td>\n",
       "      <td>Action, Comedy, Historical, Parody, Samurai, S...</td>\n",
       "      <td>TV</td>\n",
       "      <td>51</td>\n",
       "      <td>9.25</td>\n",
       "      <td>114262</td>\n",
       "    </tr>\n",
       "    <tr>\n",
       "      <th>3</th>\n",
       "      <td>9253</td>\n",
       "      <td>Steins;Gate</td>\n",
       "      <td>Sci-Fi, Thriller</td>\n",
       "      <td>TV</td>\n",
       "      <td>24</td>\n",
       "      <td>9.17</td>\n",
       "      <td>673572</td>\n",
       "    </tr>\n",
       "    <tr>\n",
       "      <th>4</th>\n",
       "      <td>9969</td>\n",
       "      <td>Gintama&amp;#039;</td>\n",
       "      <td>Action, Comedy, Historical, Parody, Samurai, S...</td>\n",
       "      <td>TV</td>\n",
       "      <td>51</td>\n",
       "      <td>9.16</td>\n",
       "      <td>151266</td>\n",
       "    </tr>\n",
       "  </tbody>\n",
       "</table>\n",
       "</div>"
      ],
      "text/plain": [
       "   anime_id                              name  \\\n",
       "0     32281                    Kimi no Na wa.   \n",
       "1      5114  Fullmetal Alchemist: Brotherhood   \n",
       "2     28977                          Gintama°   \n",
       "3      9253                       Steins;Gate   \n",
       "4      9969                     Gintama&#039;   \n",
       "\n",
       "                                               genre   type episodes  rating  \\\n",
       "0               Drama, Romance, School, Supernatural  Movie        1    9.37   \n",
       "1  Action, Adventure, Drama, Fantasy, Magic, Mili...     TV       64    9.26   \n",
       "2  Action, Comedy, Historical, Parody, Samurai, S...     TV       51    9.25   \n",
       "3                                   Sci-Fi, Thriller     TV       24    9.17   \n",
       "4  Action, Comedy, Historical, Parody, Samurai, S...     TV       51    9.16   \n",
       "\n",
       "   members  \n",
       "0   200630  \n",
       "1   793665  \n",
       "2   114262  \n",
       "3   673572  \n",
       "4   151266  "
      ]
     },
     "execution_count": 3,
     "metadata": {},
     "output_type": "execute_result"
    }
   ],
   "source": [
    "# show head 5 rows\n",
    "df_anime.head()"
   ]
  },
  {
   "cell_type": "code",
   "execution_count": 4,
   "metadata": {},
   "outputs": [
    {
     "name": "stdout",
     "output_type": "stream",
     "text": [
      "df_anime\n",
      "(Filas,columnas): \n",
      " \t(12294, 7)\n",
      "columna (type):\n",
      " \tanime_id (int64)\n",
      " \tname (object)\n",
      " \tgenre (object)\n",
      " \ttype (object)\n",
      " \tepisodes (object)\n",
      " \trating (float64)\n",
      " \tmembers (int64)\n",
      " \n",
      "Missing values (na_count , total) percent% \n",
      "\n",
      "\tanime_id: (0, 12294) 0.0%\n",
      "\tname: (0, 12294) 0.0%\n",
      "\tgenre: (62, 12294) 0.005043110460387181%\n",
      "\ttype: (25, 12294) 0.0020335122824141857%\n",
      "\tepisodes: (0, 12294) 0.0%\n",
      "\trating: (230, 12294) 0.01870831299821051%\n",
      "\tmembers: (0, 12294) 0.0%\n"
     ]
    }
   ],
   "source": [
    "basic_analisis_df(df_anime, \"df_anime\")"
   ]
  },
  {
   "cell_type": "markdown",
   "metadata": {},
   "source": [
    "<br>\n",
    "<p style=\"font-family:'Comic Sans MS', sans-serif; color:#545353;font-weight: bold;\">\n",
    "\n",
    "</p>\n",
    "<br>\n"
   ]
  },
  {
   "cell_type": "markdown",
   "metadata": {},
   "source": [
    "<p style=\"font-family:'Comic Sans MS', sans-serif; color:#545353;font-weight: bold;\">\n",
    "Dado el insignificante nivel de datos perdidos se opta por aplicar un dropna y eliminar todos aquellos registros que los contengan. Es importante destacar que esto implica eliminar del análisis algunos animes.\n",
    "</p>"
   ]
  },
  {
   "cell_type": "code",
   "execution_count": 5,
   "metadata": {},
   "outputs": [],
   "source": [
    "df_anime = df_anime.dropna()"
   ]
  },
  {
   "cell_type": "code",
   "execution_count": 6,
   "metadata": {
    "scrolled": false
   },
   "outputs": [
    {
     "data": {
      "image/png": "[encoded data removed]",
      "text/plain": [
       "<Figure size 1080x1080 with 6 Axes>"
      ]
     },
     "metadata": {
      "needs_background": "light"
     },
     "output_type": "display_data"
    }
   ],
   "source": [
    "graph_df_basics(df_anime.drop(columns=\"anime_id\"),(15,15))"
   ]
  },
  {
   "cell_type": "code",
   "execution_count": 7,
   "metadata": {},
   "outputs": [
    {
     "data": {
      "text/html": [
       "<div>\n",
       "<style scoped>\n",
       "    .dataframe tbody tr th:only-of-type {\n",
       "        vertical-align: middle;\n",
       "    }\n",
       "\n",
       "    .dataframe tbody tr th {\n",
       "        vertical-align: top;\n",
       "    }\n",
       "\n",
       "    .dataframe thead th {\n",
       "        text-align: right;\n",
       "    }\n",
       "</style>\n",
       "<table border=\"1\" class=\"dataframe\">\n",
       "  <thead>\n",
       "    <tr style=\"text-align: right;\">\n",
       "      <th></th>\n",
       "      <th>rating</th>\n",
       "      <th>members</th>\n",
       "    </tr>\n",
       "  </thead>\n",
       "  <tbody>\n",
       "    <tr>\n",
       "      <th>count</th>\n",
       "      <td>12017.000000</td>\n",
       "      <td>1.201700e+04</td>\n",
       "    </tr>\n",
       "    <tr>\n",
       "      <th>mean</th>\n",
       "      <td>6.478264</td>\n",
       "      <td>1.834888e+04</td>\n",
       "    </tr>\n",
       "    <tr>\n",
       "      <th>std</th>\n",
       "      <td>1.023857</td>\n",
       "      <td>5.537250e+04</td>\n",
       "    </tr>\n",
       "    <tr>\n",
       "      <th>min</th>\n",
       "      <td>1.670000</td>\n",
       "      <td>1.200000e+01</td>\n",
       "    </tr>\n",
       "    <tr>\n",
       "      <th>25%</th>\n",
       "      <td>5.890000</td>\n",
       "      <td>2.250000e+02</td>\n",
       "    </tr>\n",
       "    <tr>\n",
       "      <th>50%</th>\n",
       "      <td>6.570000</td>\n",
       "      <td>1.552000e+03</td>\n",
       "    </tr>\n",
       "    <tr>\n",
       "      <th>75%</th>\n",
       "      <td>7.180000</td>\n",
       "      <td>9.588000e+03</td>\n",
       "    </tr>\n",
       "    <tr>\n",
       "      <th>max</th>\n",
       "      <td>10.000000</td>\n",
       "      <td>1.013917e+06</td>\n",
       "    </tr>\n",
       "  </tbody>\n",
       "</table>\n",
       "</div>"
      ],
      "text/plain": [
       "             rating       members\n",
       "count  12017.000000  1.201700e+04\n",
       "mean       6.478264  1.834888e+04\n",
       "std        1.023857  5.537250e+04\n",
       "min        1.670000  1.200000e+01\n",
       "25%        5.890000  2.250000e+02\n",
       "50%        6.570000  1.552000e+03\n",
       "75%        7.180000  9.588000e+03\n",
       "max       10.000000  1.013917e+06"
      ]
     },
     "execution_count": 7,
     "metadata": {},
     "output_type": "execute_result"
    }
   ],
   "source": [
    "df_anime[[\"rating\",\"members\"]].describe()"
   ]
  },
  {
   "cell_type": "markdown",
   "metadata": {},
   "source": [
    "<br>\n",
    "<p style=\"font-family:'Comic Sans MS', sans-serif; color:#545353;font-weight: bold;\">\n",
    "    - Podemos ver que el rating tiene una distribución similar a una normal y sus rangos fluctuan entre el valor 1.67 y 10. <br>\n",
    "    - La distribución de tipos de anime se analizá con más detalle posteriormente. <br>\n",
    "    - La columna episodes no es posible gráficarla ya que es de tipo object por lo que tiene muchas categorías. Si en algun momento es necesario esa variable debe ser casteada <br>\n",
    "</p>\n",
    "<br>"
   ]
  },
  {
   "cell_type": "markdown",
   "metadata": {},
   "source": [
    "<br>\n",
    "<h4 style=\"font-family:'Comic Sans MS',cursive, sans-serif; color:orange\">\n",
    "¿Que tipo de anime es mejor evaluado? </h4>\n"
   ]
  },
  {
   "cell_type": "code",
   "execution_count": 8,
   "metadata": {
    "scrolled": false
   },
   "outputs": [
    {
     "data": {
      "text/html": [
       "<div>\n",
       "<style scoped>\n",
       "    .dataframe tbody tr th:only-of-type {\n",
       "        vertical-align: middle;\n",
       "    }\n",
       "\n",
       "    .dataframe tbody tr th {\n",
       "        vertical-align: top;\n",
       "    }\n",
       "\n",
       "    .dataframe thead th {\n",
       "        text-align: right;\n",
       "    }\n",
       "</style>\n",
       "<table border=\"1\" class=\"dataframe\">\n",
       "  <thead>\n",
       "    <tr style=\"text-align: right;\">\n",
       "      <th></th>\n",
       "      <th>rating</th>\n",
       "      <th>members</th>\n",
       "    </tr>\n",
       "    <tr>\n",
       "      <th>type</th>\n",
       "      <th></th>\n",
       "      <th></th>\n",
       "    </tr>\n",
       "  </thead>\n",
       "  <tbody>\n",
       "    <tr>\n",
       "      <th>Music</th>\n",
       "      <td>5.588996</td>\n",
       "      <td>1311.840164</td>\n",
       "    </tr>\n",
       "    <tr>\n",
       "      <th>ONA</th>\n",
       "      <td>5.650293</td>\n",
       "      <td>4175.214506</td>\n",
       "    </tr>\n",
       "    <tr>\n",
       "      <th>Movie</th>\n",
       "      <td>6.334055</td>\n",
       "      <td>10564.510403</td>\n",
       "    </tr>\n",
       "    <tr>\n",
       "      <th>OVA</th>\n",
       "      <td>6.375411</td>\n",
       "      <td>6015.718027</td>\n",
       "    </tr>\n",
       "    <tr>\n",
       "      <th>Special</th>\n",
       "      <td>6.523126</td>\n",
       "      <td>7692.521557</td>\n",
       "    </tr>\n",
       "    <tr>\n",
       "      <th>TV</th>\n",
       "      <td>6.903321</td>\n",
       "      <td>43807.362050</td>\n",
       "    </tr>\n",
       "  </tbody>\n",
       "</table>\n",
       "</div>"
      ],
      "text/plain": [
       "           rating       members\n",
       "type                           \n",
       "Music    5.588996   1311.840164\n",
       "ONA      5.650293   4175.214506\n",
       "Movie    6.334055  10564.510403\n",
       "OVA      6.375411   6015.718027\n",
       "Special  6.523126   7692.521557\n",
       "TV       6.903321  43807.362050"
      ]
     },
     "execution_count": 8,
     "metadata": {},
     "output_type": "execute_result"
    }
   ],
   "source": [
    "df_anime.groupby([\"type\"]).mean().drop(columns=\"anime_id\").sort_values(\"rating\")"
   ]
  },
  {
   "cell_type": "markdown",
   "metadata": {},
   "source": [
    "<br>\n",
    "<p style=\"font-family:'Comic Sans MS', sans-serif; color:#545353;font-weight: bold;\">\n",
    "    En promedio reciben mejor rating las TV series de anime y un peor rating el anime tipo Music. Las mismas pocisiones ocupan al comparar la cantidad de miembros promedio por tipo de anime.\n",
    "\n",
    "</p>\n",
    "<br>\n"
   ]
  },
  {
   "cell_type": "markdown",
   "metadata": {},
   "source": [
    "<br>\n",
    "<h4 style=\"font-family:'Comic Sans MS',cursive, sans-serif; color:orange\">\n",
    "¿Cúal es el tipo de anime predominante? </h4>\n"
   ]
  },
  {
   "cell_type": "code",
   "execution_count": 9,
   "metadata": {},
   "outputs": [
    {
     "data": {
      "text/plain": [
       "TV         30.523425\n",
       "OVA        27.327952\n",
       "Movie      18.798369\n",
       "Special    13.896979\n",
       "ONA         5.392361\n",
       "Music       4.060914\n",
       "Name: type, dtype: float64"
      ]
     },
     "execution_count": 9,
     "metadata": {},
     "output_type": "execute_result"
    }
   ],
   "source": [
    "df_anime[\"type\"].value_counts(True) * 100"
   ]
  },
  {
   "cell_type": "code",
   "execution_count": 10,
   "metadata": {
    "scrolled": false
   },
   "outputs": [
    {
     "data": {
      "image/png": "[encoded data removed]",
      "text/plain": [
       "<Figure size 576x576 with 1 Axes>"
      ]
     },
     "metadata": {},
     "output_type": "display_data"
    }
   ],
   "source": [
    "df_anime.groupby([\"type\"]).count()[\"anime_id\"].plot(kind=\"pie\",figsize=(8,8));"
   ]
  },
  {
   "cell_type": "markdown",
   "metadata": {},
   "source": [
    "<br>\n",
    "<p style=\"font-family:'Comic Sans MS', sans-serif; color:#545353;font-weight: bold;\">\n",
    "   Predominan las series de anime tipo TV , seguidos por OVA y en último lugar Music.\n",
    "</p>\n",
    "<br>"
   ]
  },
  {
   "cell_type": "markdown",
   "metadata": {},
   "source": [
    "<br>\n",
    "<h4 style=\"font-family:'Comic Sans MS',cursive, sans-serif; color:orange\">\n",
    "¿Cuales son las series mejor evaluadas? </h4>\n"
   ]
  },
  {
   "cell_type": "code",
   "execution_count": 11,
   "metadata": {},
   "outputs": [
    {
     "data": {
      "image/png": "[encoded data removed]",
      "text/plain": [
       "<Figure size 1080x576 with 2 Axes>"
      ]
     },
     "metadata": {
      "needs_background": "light"
     },
     "output_type": "display_data"
    }
   ],
   "source": [
    "ax1,ax2 = plt.subplots(1,2)\n",
    "ax1.set_size_inches((15,8))\n",
    "\n",
    "df_anime.sort_values(\"members\",ascending=True)[-50:].plot(kind=\"barh\",x=\"name\",\n",
    "                                                          y=[\"members\"],\n",
    "                                                          ax=ax2[1],\n",
    "                                                          title=\"top 50 members\",\n",
    "                                                          color=\"red\",\n",
    "                                                          legend=False)\n",
    "\n",
    "\n",
    "df_anime.sort_values(\"rating\",ascending=True)[-50:].plot(kind=\"barh\",\n",
    "                                                         x=\"name\",\n",
    "                                                         y=[\"rating\"],\n",
    "                                                         ax=ax2[0],\n",
    "                                                         title=\"top 50 ranking\",\n",
    "                                                         color=\"red\",\n",
    "                                                          legend=False)\n",
    "plt.tight_layout()\n"
   ]
  },
  {
   "cell_type": "markdown",
   "metadata": {},
   "source": [
    "<br>\n",
    "<h4 style=\"font-family:'Comic Sans MS',cursive, sans-serif; color:orange\">\n",
    "¿Existe alguna correlacion entre la evaluación de un anime y la cantidad de miembros? </h4>\n"
   ]
  },
  {
   "cell_type": "code",
   "execution_count": 12,
   "metadata": {},
   "outputs": [
    {
     "data": {
      "text/html": [
       "<div>\n",
       "<style scoped>\n",
       "    .dataframe tbody tr th:only-of-type {\n",
       "        vertical-align: middle;\n",
       "    }\n",
       "\n",
       "    .dataframe tbody tr th {\n",
       "        vertical-align: top;\n",
       "    }\n",
       "\n",
       "    .dataframe thead th {\n",
       "        text-align: right;\n",
       "    }\n",
       "</style>\n",
       "<table border=\"1\" class=\"dataframe\">\n",
       "  <thead>\n",
       "    <tr style=\"text-align: right;\">\n",
       "      <th></th>\n",
       "      <th>rating</th>\n",
       "      <th>members</th>\n",
       "    </tr>\n",
       "  </thead>\n",
       "  <tbody>\n",
       "    <tr>\n",
       "      <th>rating</th>\n",
       "      <td>1.000000</td>\n",
       "      <td>0.388499</td>\n",
       "    </tr>\n",
       "    <tr>\n",
       "      <th>members</th>\n",
       "      <td>0.388499</td>\n",
       "      <td>1.000000</td>\n",
       "    </tr>\n",
       "  </tbody>\n",
       "</table>\n",
       "</div>"
      ],
      "text/plain": [
       "           rating   members\n",
       "rating   1.000000  0.388499\n",
       "members  0.388499  1.000000"
      ]
     },
     "execution_count": 12,
     "metadata": {},
     "output_type": "execute_result"
    }
   ],
   "source": [
    "df_anime[[\"rating\",\"members\"]].corr()"
   ]
  },
  {
   "cell_type": "markdown",
   "metadata": {},
   "source": [
    "<br>\n",
    "<p style=\"font-family:'Comic Sans MS', sans-serif; color:#545353;font-weight: bold;\">\n",
    "    Existe un bajo nivel de correlacion positivo entre la evaluacion de un anime (ranking) y la cantidad de miembros.\n",
    "</p>\n",
    "<br>"
   ]
  },
  {
   "cell_type": "markdown",
   "metadata": {},
   "source": [
    "<br>\n",
    "<h2 style=\"font-family:'Comic Sans MS',cursive, sans-serif; color:orange\"> EDA rating.csv </h2>\n"
   ]
  },
  {
   "cell_type": "code",
   "execution_count": 13,
   "metadata": {},
   "outputs": [
    {
     "data": {
      "text/html": [
       "<div>\n",
       "<style scoped>\n",
       "    .dataframe tbody tr th:only-of-type {\n",
       "        vertical-align: middle;\n",
       "    }\n",
       "\n",
       "    .dataframe tbody tr th {\n",
       "        vertical-align: top;\n",
       "    }\n",
       "\n",
       "    .dataframe thead th {\n",
       "        text-align: right;\n",
       "    }\n",
       "</style>\n",
       "<table border=\"1\" class=\"dataframe\">\n",
       "  <thead>\n",
       "    <tr style=\"text-align: right;\">\n",
       "      <th></th>\n",
       "      <th>user_id</th>\n",
       "      <th>anime_id</th>\n",
       "      <th>rating</th>\n",
       "    </tr>\n",
       "  </thead>\n",
       "  <tbody>\n",
       "    <tr>\n",
       "      <th>0</th>\n",
       "      <td>1</td>\n",
       "      <td>20</td>\n",
       "      <td>-1</td>\n",
       "    </tr>\n",
       "    <tr>\n",
       "      <th>1</th>\n",
       "      <td>1</td>\n",
       "      <td>24</td>\n",
       "      <td>-1</td>\n",
       "    </tr>\n",
       "    <tr>\n",
       "      <th>2</th>\n",
       "      <td>1</td>\n",
       "      <td>79</td>\n",
       "      <td>-1</td>\n",
       "    </tr>\n",
       "    <tr>\n",
       "      <th>3</th>\n",
       "      <td>1</td>\n",
       "      <td>226</td>\n",
       "      <td>-1</td>\n",
       "    </tr>\n",
       "    <tr>\n",
       "      <th>4</th>\n",
       "      <td>1</td>\n",
       "      <td>241</td>\n",
       "      <td>-1</td>\n",
       "    </tr>\n",
       "  </tbody>\n",
       "</table>\n",
       "</div>"
      ],
      "text/plain": [
       "   user_id  anime_id  rating\n",
       "0        1        20      -1\n",
       "1        1        24      -1\n",
       "2        1        79      -1\n",
       "3        1       226      -1\n",
       "4        1       241      -1"
      ]
     },
     "execution_count": 13,
     "metadata": {},
     "output_type": "execute_result"
    }
   ],
   "source": [
    "df_rating.head()"
   ]
  },
  {
   "cell_type": "code",
   "execution_count": 14,
   "metadata": {
    "scrolled": true
   },
   "outputs": [
    {
     "name": "stdout",
     "output_type": "stream",
     "text": [
      "df_rating\n",
      "(Filas,columnas): \n",
      " \t(7813737, 3)\n",
      "columna (type):\n",
      " \tuser_id (int64)\n",
      " \tanime_id (int64)\n",
      " \trating (int64)\n",
      " \n",
      "Missing values (na_count , total) percent% \n",
      "\n",
      "\tuser_id: (0, 7813737) 0.0%\n",
      "\tanime_id: (0, 7813737) 0.0%\n",
      "\trating: (0, 7813737) 0.0%\n"
     ]
    }
   ],
   "source": [
    "basic_analisis_df(df_rating, \"df_rating\")"
   ]
  },
  {
   "cell_type": "code",
   "execution_count": 15,
   "metadata": {},
   "outputs": [
    {
     "data": {
      "text/plain": [
       "otro_valor    81.103843\n",
       "valor -1      18.896157\n",
       "dtype: float64"
      ]
     },
     "execution_count": 15,
     "metadata": {},
     "output_type": "execute_result"
    }
   ],
   "source": [
    "pd.Series(np.where(df_rating[\"rating\"]==-1,\"valor -1\",\"otro_valor\")).value_counts(\"%\") * 100"
   ]
  },
  {
   "cell_type": "markdown",
   "metadata": {},
   "source": [
    "<br>\n",
    "<p style=\"font-family:'Comic Sans MS', sans-serif; color:#545353;font-weight: bold;\">\n",
    "   No existen valores perdidos y los tipos de datos son adecuados a los datos almacenados. Hay que considerar que en la columna  rating el valor -1 indica ausencia de evaluación que corresponde al 18.89% de los registros.\n",
    "</p>\n",
    "<br>"
   ]
  },
  {
   "cell_type": "code",
   "execution_count": 16,
   "metadata": {},
   "outputs": [
    {
     "data": {
      "image/png": "[encoded data removed]",
      "text/plain": [
       "<Figure size 1080x288 with 2 Axes>"
      ]
     },
     "metadata": {
      "needs_background": "light"
     },
     "output_type": "display_data"
    }
   ],
   "source": [
    "graph_df_basics(df_rating.drop(columns=[\"user_id\",\"anime_id\"]),(15,4))"
   ]
  },
  {
   "cell_type": "code",
   "execution_count": 17,
   "metadata": {},
   "outputs": [
    {
     "data": {
      "text/plain": [
       "-1     18.896157\n",
       " 1      0.213073\n",
       " 2      0.296273\n",
       " 3      0.530514\n",
       " 4      1.334713\n",
       " 5      3.619344\n",
       " 6      8.162228\n",
       " 7     17.600887\n",
       " 8     21.065708\n",
       " 9     16.049888\n",
       " 10    12.231215\n",
       "Name: rating, dtype: float64"
      ]
     },
     "execution_count": 17,
     "metadata": {},
     "output_type": "execute_result"
    }
   ],
   "source": [
    "df_rating[\"rating\"].value_counts(\"%\").sort_index() * 100"
   ]
  },
  {
   "cell_type": "code",
   "execution_count": 18,
   "metadata": {},
   "outputs": [],
   "source": [
    "# se elimina valor -1 en rating\n",
    "df_rating.replace(-1,np.nan, inplace=True)"
   ]
  },
  {
   "cell_type": "code",
   "execution_count": 19,
   "metadata": {
    "scrolled": true
   },
   "outputs": [
    {
     "data": {
      "text/plain": [
       "count    6.337241e+06\n",
       "mean     7.808497e+00\n",
       "std      1.572496e+00\n",
       "min      1.000000e+00\n",
       "25%      7.000000e+00\n",
       "50%      8.000000e+00\n",
       "75%      9.000000e+00\n",
       "max      1.000000e+01\n",
       "Name: rating, dtype: float64"
      ]
     },
     "execution_count": 19,
     "metadata": {},
     "output_type": "execute_result"
    }
   ],
   "source": [
    "df_rating.describe()[\"rating\"]"
   ]
  },
  {
   "cell_type": "code",
   "execution_count": 20,
   "metadata": {
    "scrolled": true
   },
   "outputs": [
    {
     "name": "stdout",
     "output_type": "stream",
     "text": [
      "df_rating\n",
      "(Filas,columnas): \n",
      " \t(7813737, 3)\n",
      "columna (type):\n",
      " \tuser_id (int64)\n",
      " \tanime_id (int64)\n",
      " \trating (float64)\n",
      " \n",
      "Missing values (na_count , total) percent% \n",
      "\n",
      "\tuser_id: (0, 7813737) 0.0%\n",
      "\tanime_id: (0, 7813737) 0.0%\n",
      "\trating: (1476496, 7813737) 0.18896156858107716%\n"
     ]
    }
   ],
   "source": [
    "basic_analisis_df(df_rating, \"df_rating\")"
   ]
  },
  {
   "cell_type": "markdown",
   "metadata": {},
   "source": [
    "<br>\n",
    "<p style=\"font-family:'Comic Sans MS', sans-serif; color:#545353;font-weight: bold;\">\n",
    "   El porcentaje de valores nulos (18.9%) ahora coincide con la cantidad de -1 en la columna rating\n",
    "</p>\n",
    "<br>"
   ]
  },
  {
   "cell_type": "markdown",
   "metadata": {},
   "source": [
    "<br>\n",
    "<h2 style=\"font-family:'Comic Sans MS',cursive, sans-serif; color:orange\"> Dataframe merged</h2>\n"
   ]
  },
  {
   "cell_type": "code",
   "execution_count": 21,
   "metadata": {},
   "outputs": [
    {
     "data": {
      "text/plain": [
       "((7813737, 3), (12017, 7))"
      ]
     },
     "execution_count": 21,
     "metadata": {},
     "output_type": "execute_result"
    }
   ],
   "source": [
    "# show shape of dfs\n",
    "df_rating.shape, df_anime.shape"
   ]
  },
  {
   "cell_type": "code",
   "execution_count": 22,
   "metadata": {},
   "outputs": [
    {
     "data": {
      "text/plain": [
       "(7813737, 9)"
      ]
     },
     "execution_count": 22,
     "metadata": {},
     "output_type": "execute_result"
    }
   ],
   "source": [
    "# merge dfs on anime_id\n",
    "df_merged = pd.merge(df_rating, df_anime, how=\"left\", on=\"anime_id\",suffixes=(\"_user\",\"\" ))\n",
    "df_merged.shape"
   ]
  },
  {
   "cell_type": "code",
   "execution_count": 23,
   "metadata": {},
   "outputs": [],
   "source": [
    "# drop nan values rows\n",
    "df_merged.dropna(inplace=True)"
   ]
  },
  {
   "cell_type": "code",
   "execution_count": 24,
   "metadata": {},
   "outputs": [
    {
     "data": {
      "text/plain": [
       "(6337146, 9)"
      ]
     },
     "execution_count": 24,
     "metadata": {},
     "output_type": "execute_result"
    }
   ],
   "source": [
    "# final df_merged shape\n",
    "df_merged.shape"
   ]
  },
  {
   "cell_type": "code",
   "execution_count": 25,
   "metadata": {},
   "outputs": [
    {
     "name": "stdout",
     "output_type": "stream",
     "text": [
      "df_merged\n",
      "(Filas,columnas): \n",
      " \t(6337146, 9)\n",
      "columna (type):\n",
      " \tuser_id (int64)\n",
      " \tanime_id (int64)\n",
      " \trating_user (float64)\n",
      " \tname (object)\n",
      " \tgenre (object)\n",
      " \ttype (object)\n",
      " \tepisodes (object)\n",
      " \trating (float64)\n",
      " \tmembers (float64)\n",
      " \n",
      "Missing values (na_count , total) percent% \n",
      "\n",
      "\tuser_id: (0, 6337146) 0.0%\n",
      "\tanime_id: (0, 6337146) 0.0%\n",
      "\trating_user: (0, 6337146) 0.0%\n",
      "\tname: (0, 6337146) 0.0%\n",
      "\tgenre: (0, 6337146) 0.0%\n",
      "\ttype: (0, 6337146) 0.0%\n",
      "\tepisodes: (0, 6337146) 0.0%\n",
      "\trating: (0, 6337146) 0.0%\n",
      "\tmembers: (0, 6337146) 0.0%\n"
     ]
    }
   ],
   "source": [
    "# basic analisis final df_merged\n",
    "basic_analisis_df(df_merged, \"df_merged\")"
   ]
  },
  {
   "cell_type": "code",
   "execution_count": 26,
   "metadata": {},
   "outputs": [],
   "source": [
    "# selección de animes que tengan cantidad de rating superior a 80,\n",
    "# esto se realiza para disminuir el tiempo de ejecución en el pivot del df\n",
    "df_anime_selected = df_merged.groupby(\"anime_id\").count()[\"rating_user\"]\n",
    "selected_animes_ids = df_anime_selected[df_anime_selected>80].index"
   ]
  },
  {
   "cell_type": "markdown",
   "metadata": {},
   "source": [
    "<br>\n",
    "<h2 style=\"font-family:'Comic Sans MS',cursive, sans-serif; color:orange\"> Generate sparse matrix </h2>\n"
   ]
  },
  {
   "cell_type": "code",
   "execution_count": 27,
   "metadata": {},
   "outputs": [],
   "source": [
    "# prepare pivot df matrix\n",
    "matrix = df_merged[df_merged[\"anime_id\"].isin(selected_animes_ids)].pivot_table(index='user_id', \n",
    "                                                                              columns='name', \n",
    "                                                                              values='rating')"
   ]
  },
  {
   "cell_type": "code",
   "execution_count": 28,
   "metadata": {},
   "outputs": [
    {
     "data": {
      "text/plain": [
       "<4450x64918 sparse matrix of type '<class 'numpy.float64'>'\n",
       "\twith 6215951 stored elements in Compressed Sparse Row format>"
      ]
     },
     "execution_count": 28,
     "metadata": {},
     "output_type": "execute_result"
    }
   ],
   "source": [
    "# standarize data and replace nan values with 0\n",
    "matrix = matrix.apply(lambda x: (x-np.mean(x))/(np.max(x)-np.min(x)), axis=1)\n",
    "matrix.fillna(0, inplace=True)\n",
    "matrix = matrix.T\n",
    "\n",
    "# remove cols with 0s\n",
    "matrix = matrix.loc[:,matrix.sum() != 0]\n",
    "# generate sparse matrix\n",
    "anime_mat_sparse = csr_matrix(matrix)\n",
    "anime_mat_sparse"
   ]
  },
  {
   "cell_type": "markdown",
   "metadata": {},
   "source": [
    "<br>\n",
    "<h2 style=\"font-family:'Comic Sans MS',cursive, sans-serif; color:orange\"> KNN model </h2>\n",
    "\n",
    "\n",
    "<br>\n",
    "<p style=\"font-family:'Comic Sans MS', sans-serif; color:#545353;font-weight: bold;\">\n",
    "   Apelando al principio de parsimonia (y a la limitante de tiempo disponible) se utiliza el Modelo NearesNeighbors y como metrica de distancia la distancia del coseno.\n",
    "</p>\n",
    "<br>\n"
   ]
  },
  {
   "cell_type": "code",
   "execution_count": 29,
   "metadata": {},
   "outputs": [],
   "source": [
    "anime_nnb = NearestNeighbors(metric='cosine').fit(anime_mat_sparse)\n",
    "anime_nnb.kneighbors(anime_mat_sparse);"
   ]
  },
  {
   "cell_type": "code",
   "execution_count": 30,
   "metadata": {},
   "outputs": [
    {
     "data": {
      "text/plain": [
       "12017"
      ]
     },
     "execution_count": 30,
     "metadata": {},
     "output_type": "execute_result"
    }
   ],
   "source": [
    "len(matrix.index)\n",
    "df_anime.shape[0]"
   ]
  },
  {
   "cell_type": "code",
   "execution_count": 31,
   "metadata": {},
   "outputs": [],
   "source": [
    "\n",
    "def get_recomendation(matrix,model,recomendations=5,anime_name = \"Pokemon\"):\n",
    "    # busca el index de anime_name\n",
    "    anime_names = list(matrix.index)\n",
    "    selected_anime_index = anime_names.index(anime_name)\n",
    "    # encuentra los k vecinos de el anime buscado\n",
    "    dist, ind = anime_nnb.kneighbors(matrix.iloc[selected_anime_index,:].values.reshape(1,-1),\n",
    "                                     n_neighbors=recomendations)\n",
    "    recomdended_indices, recomended_distances = ind.flatten(),dist.flatten()\n",
    "    # show data de los animes recomendados\n",
    "    for index, anime_index in enumerate(recomdended_indices):\n",
    "        anime_name = anime_names[anime_index]\n",
    "        anime_row = df_anime[df_anime[\"name\"]== anime_name]\n",
    "        if(index == 0): \n",
    "            print(f'Animes recomendados similares con {anime_name}:\\n')\n",
    "        else:\n",
    "            print(f\"distance: {recomended_distances[index]}\")\n",
    "            print(f'\\t {anime_row[\"name\"].values[0]}')\n",
    "            print(f'\\t type: {anime_row[\"type\"].values[0]}')\n",
    "            print(f'\\t genero: {anime_row[\"genre\"].values[0]}')\n",
    "            print(f'\\t episodios: {anime_row[\"episodes\"].values[0]}')\n",
    "            print(\"\\n\")   "
   ]
  },
  {
   "cell_type": "markdown",
   "metadata": {},
   "source": [
    "<br>\n",
    "<h2 style=\"font-family:'Comic Sans MS',cursive, sans-serif; color:orange\"> Probando el Modelo </h2>\n"
   ]
  },
  {
   "cell_type": "markdown",
   "metadata": {},
   "source": [
    "<img src=\"images/pokemon.jpg\">"
   ]
  },
  {
   "cell_type": "code",
   "execution_count": 32,
   "metadata": {},
   "outputs": [
    {
     "name": "stdout",
     "output_type": "stream",
     "text": [
      "Animes recomendados similares con Pokemon:\n",
      "\n",
      "distance: 0.6463763045747377\n",
      "\t Pokemon Advanced Generation\n",
      "\t type: TV\n",
      "\t genero: Action, Adventure, Comedy, Fantasy, Kids\n",
      "\t episodios: 192\n",
      "\n",
      "\n",
      "distance: 0.7389031002562196\n",
      "\t Pokemon: Maboroshi no Pokemon Lugia Bakutan\n",
      "\t type: Movie\n",
      "\t genero: Adventure, Comedy, Drama, Fantasy, Kids\n",
      "\t episodios: 1\n",
      "\n",
      "\n",
      "distance: 0.7479901167013556\n",
      "\t Pokemon: Kesshoutou no Teiou Entei\n",
      "\t type: Movie\n",
      "\t genero: Action, Adventure, Comedy, Drama, Fantasy, Kids\n",
      "\t episodios: 1\n",
      "\n",
      "\n",
      "distance: 0.7520295975509534\n",
      "\t Pokemon Diamond &amp; Pearl\n",
      "\t type: TV\n",
      "\t genero: Action, Adventure, Comedy, Fantasy, Kids\n",
      "\t episodios: 191\n",
      "\n",
      "\n"
     ]
    }
   ],
   "source": [
    "get_recomendation(matrix,anime_nnb,recomendations=5,anime_name = \"Pokemon\")"
   ]
  },
  {
   "cell_type": "markdown",
   "metadata": {},
   "source": [
    "<img src=\"images/Ranma_TV.jpg\">\n"
   ]
  },
  {
   "cell_type": "code",
   "execution_count": 33,
   "metadata": {
    "scrolled": false
   },
   "outputs": [
    {
     "name": "stdout",
     "output_type": "stream",
     "text": [
      "Animes recomendados similares con Ranma ½:\n",
      "\n",
      "distance: 0.5704532727971023\n",
      "\t Ranma ½ OVA\n",
      "\t type: OVA\n",
      "\t genero: Comedy, Martial Arts, Romance, Shounen\n",
      "\t episodios: 6\n",
      "\n",
      "\n",
      "distance: 0.6395992704842712\n",
      "\t Ranma ½ Specials\n",
      "\t type: OVA\n",
      "\t genero: Comedy, Drama, Romance, Shounen\n",
      "\t episodios: 2\n",
      "\n",
      "\n",
      "distance: 0.6725770598488339\n",
      "\t Ranma ½ Super\n",
      "\t type: OVA\n",
      "\t genero: Adventure, Comedy, Martial Arts, Romance, Shounen, Supernatural\n",
      "\t episodios: 3\n",
      "\n",
      "\n",
      "distance: 0.7643542390090962\n",
      "\t Ranma ½: Akumu! Shunmin Kou\n",
      "\t type: OVA\n",
      "\t genero: Action, Comedy, Martial Arts, Shounen, Supernatural\n",
      "\t episodios: 1\n",
      "\n",
      "\n"
     ]
    }
   ],
   "source": [
    "get_recomendation(matrix,anime_nnb,recomendations=5,anime_name = 'Ranma ½')"
   ]
  },
  {
   "cell_type": "markdown",
   "metadata": {},
   "source": [
    "<img src=\"images/pucca.jpg\">\n"
   ]
  },
  {
   "cell_type": "code",
   "execution_count": 34,
   "metadata": {},
   "outputs": [
    {
     "name": "stdout",
     "output_type": "stream",
     "text": [
      "Animes recomendados similares con Pucca:\n",
      "\n",
      "distance: 0.5433689800759326\n",
      "\t Pucca (2006)\n",
      "\t type: TV\n",
      "\t genero: Comedy, Parody, Romance\n",
      "\t episodios: 26\n",
      "\n",
      "\n",
      "distance: 0.9168830564923357\n",
      "\t Sonic X\n",
      "\t type: TV\n",
      "\t genero: Adventure, Comedy, Kids, Mecha, Sci-Fi, Shounen\n",
      "\t episodios: 78\n",
      "\n",
      "\n",
      "distance: 0.9412927950331111\n",
      "\t Sekiranun Graffiti\n",
      "\t type: Music\n",
      "\t genero: Music\n",
      "\t episodios: 1\n",
      "\n",
      "\n",
      "distance: 0.9434738802122813\n",
      "\t CLAMP in Wonderland\n",
      "\t type: Music\n",
      "\t genero: Music\n",
      "\t episodios: 1\n",
      "\n",
      "\n"
     ]
    }
   ],
   "source": [
    "get_recomendation(matrix,anime_nnb,recomendations=5,anime_name = \"Pucca\")"
   ]
  },
  {
   "cell_type": "markdown",
   "metadata": {},
   "source": [
    "<img style=\"width:100%\" src=\"images/neo.jpg\">\n"
   ]
  },
  {
   "cell_type": "code",
   "execution_count": 35,
   "metadata": {},
   "outputs": [
    {
     "name": "stdout",
     "output_type": "stream",
     "text": [
      "Animes recomendados similares con Neon Genesis Evangelion:\n",
      "\n",
      "distance: 0.3092146261020534\n",
      "\t Neon Genesis Evangelion: The End of Evangelion\n",
      "\t type: Movie\n",
      "\t genero: Dementia, Drama, Mecha, Psychological, Sci-Fi\n",
      "\t episodios: 1\n",
      "\n",
      "\n",
      "distance: 0.48582283301564366\n",
      "\t Evangelion: 1.0 You Are (Not) Alone\n",
      "\t type: Movie\n",
      "\t genero: Action, Mecha, Sci-Fi\n",
      "\t episodios: 1\n",
      "\n",
      "\n",
      "distance: 0.530249022164097\n",
      "\t Evangelion: 2.0 You Can (Not) Advance\n",
      "\t type: Movie\n",
      "\t genero: Action, Mecha, Sci-Fi\n",
      "\t episodios: 1\n",
      "\n",
      "\n",
      "distance: 0.5708823174859299\n",
      "\t Cowboy Bebop\n",
      "\t type: TV\n",
      "\t genero: Action, Adventure, Comedy, Drama, Sci-Fi, Space\n",
      "\t episodios: 26\n",
      "\n",
      "\n"
     ]
    }
   ],
   "source": [
    "get_recomendation(matrix,anime_nnb,recomendations=5,anime_name = \"Neon Genesis Evangelion\")"
   ]
  },
  {
   "cell_type": "markdown",
   "metadata": {},
   "source": [
    "<br>\n",
    "<h2 style=\"font-family:'Comic Sans MS',cursive, sans-serif; color:orange\"> Conclusiones y próximos pasos </h2>\n",
    "\n",
    "\n",
    "<br>\n",
    "<p style=\"font-family:'Comic Sans MS', sans-serif; color:#545353;font-weight: bold;\">\n",
    "   A pesar de la simplicidad del modelo, KNN es bastante robusto con la ventaja de funcionar con sparse matrix de numpy, lo que permite generar modelos \"rapidamente\" entrenables. Es de suma relevancia considerar que a pesar de que al probar el modelo con series especificas y obtener resultados que parecen tener sentido, se deben generar metricas de evaluación del modelo generado.\n",
    "    <br> <br>\n",
    "    Algunas mejoras del trabajo propuesto:\n",
    "    <br> <br> 1° Al probar el modelo podemos ver que gran parte de las recomendaciones realizadas tienen sentido, sin embargo es de suma relevancia generar algun metodo de evaluacion que permita obtener metricas de desempeño del modelo generado. \n",
    "    <br> <br> 2° El modelo actual es capaz solo de recomendar aquellos animes que tienen más de 80 evaluaciones por velocidad de procesamiento (problema de facil correccion). \n",
    "   <br> <br> 3° Existen otras variables como el tipo de anime (movie, serie ,etc) y cantidad de episodios que potencialmente podrian ayudar considerablemente a generar mejores recomendaciones. Estos atributos actualmente no se estan utilizando dentro del sistema de recomendación.\n",
    "  <br>  <br> 4° En base al 2° punto se recomienda utilizar algun enfoque diferente a un filtro colaborativo, como el uso de modelos más sofisticados (RBM Restricted Boltzmann machines), que nos permitan aprovechar de mejor forma la data disponible.\n",
    "  <br>  <br> 5° Dado que se trata de datos de series de anime es altamente probable que se pueda enriquecer el dataset incorporando algun tipo de scrapper, esto nos permitiría por ejemplo extraer datos como director, escritor, año de lanzamiento de la serie, etc. Variables que podrian ser relevantes en la recomendación de un anime.\n",
    "</p>\n",
    "<br>\n"
   ]
  },
  {
   "cell_type": "code",
   "execution_count": null,
   "metadata": {},
   "outputs": [],
   "source": []
  }
 ],
 "metadata": {
  "kernelspec": {
   "display_name": "Python 3",
   "language": "python",
   "name": "python3"
  },
  "language_info": {
   "codemirror_mode": {
    "name": "ipython",
    "version": 3
   },
   "file_extension": ".py",
   "mimetype": "text/x-python",
   "name": "python",
   "nbconvert_exporter": "python",
   "pygments_lexer": "ipython3",
   "version": "3.6.8"
  }
 },
 "nbformat": 4,
 "nbformat_minor": 2
}
